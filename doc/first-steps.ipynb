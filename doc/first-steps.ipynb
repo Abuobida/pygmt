{
 "cells": [
  {
   "cell_type": "markdown",
   "metadata": {},
   "source": [
    "# First steps\n",
    "\n",
    "This is a minimum working example of what you can already with GMT/Python."
   ]
  },
  {
   "cell_type": "code",
   "execution_count": null,
   "metadata": {
    "collapsed": true
   },
   "outputs": [],
   "source": [
    "import gmt"
   ]
  },
  {
   "cell_type": "code",
   "execution_count": null,
   "metadata": {},
   "outputs": [],
   "source": [
    "# Start a new figure. \n",
    "# Optional if this is the only figure (but recommended).\n",
    "gmt.figure()\n",
    "# Creat a global basemap with the Mollweide projection\n",
    "gmt.psbasemap(R='g', J='W7i', B='afg', P=True)\n",
    "# Unlike the GMT command-line interface, no figure file is generated unless\n",
    "# savefig or psconvert are called.\n",
    "gmt.psconvert(F='myfigure', T='g', A=True)"
   ]
  },
  {
   "cell_type": "code",
   "execution_count": null,
   "metadata": {},
   "outputs": [],
   "source": [
    "# Display the figure in the notebook\n",
    "from IPython.display import Image, display\n",
    "Image(filename='myfigure.png', embed=True, width=700)"
   ]
  },
  {
   "cell_type": "code",
   "execution_count": null,
   "metadata": {
    "collapsed": true
   },
   "outputs": [],
   "source": [
    "!rm myfigure.png"
   ]
  }
 ],
 "metadata": {
  "kernelspec": {
   "display_name": "Python 3",
   "language": "python",
   "name": "python3"
  },
  "language_info": {
   "codemirror_mode": {
    "name": "ipython",
    "version": 3
   },
   "file_extension": ".py",
   "mimetype": "text/x-python",
   "name": "python",
   "nbconvert_exporter": "python",
   "pygments_lexer": "ipython3",
   "version": "3.6.1"
  }
 },
 "nbformat": 4,
 "nbformat_minor": 2
}
