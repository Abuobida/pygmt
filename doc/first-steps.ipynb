{
 "cells": [
  {
   "cell_type": "markdown",
   "metadata": {},
   "source": [
    "# First steps\n",
    "\n",
    "This is an example of what you can already with GMT/Python.\n",
    "\n",
    "Modules are available as functions in the `gmt` package. See the [API Reference](api.html) for a list of all available functions.\n",
    "\n",
    "Start by importing the package:"
   ]
  },
  {
   "cell_type": "code",
   "execution_count": null,
   "metadata": {
    "collapsed": true
   },
   "outputs": [],
   "source": [
    "import gmt"
   ]
  },
  {
   "cell_type": "markdown",
   "metadata": {},
   "source": [
    "We'll reproduce an example from the [GMT Tutorial](http://gmt.soest.hawaii.edu/doc/latest/GMT_Tutorial.html#session-one).\n",
    "\n",
    "The Python functions accept the same command-line options as the GMT modules."
   ]
  },
  {
   "cell_type": "code",
   "execution_count": null,
   "metadata": {},
   "outputs": [],
   "source": [
    "# Start a new figure. \n",
    "gmt.figure()\n",
    "# Creat a global basemap with the Mercator projection\n",
    "gmt.psbasemap(R='130/150/35/50', J='M6i', B=True, P=True)\n",
    "# Plot the quake data from the GMT tutorial\n",
    "gmt.psxy('@tut_quakes.ngdc', S='c0.4c', G='red', W='faint', \n",
    "         i='4,3')\n",
    "# Unlike the GMT command-line interface, no figure \n",
    "# file is generated unless savefig or psconvert are \n",
    "# called.\n",
    "gmt.psconvert(F='myfigure', T='G', A=True)"
   ]
  },
  {
   "cell_type": "markdown",
   "metadata": {},
   "source": [
    "Insert the figure into the Jupyter notebook."
   ]
  },
  {
   "cell_type": "code",
   "execution_count": null,
   "metadata": {},
   "outputs": [],
   "source": [
    "# Display the figure in the notebook\n",
    "from IPython.display import Image, display\n",
    "Image(filename='myfigure.png', embed=True, width=500)"
   ]
  },
  {
   "cell_type": "markdown",
   "metadata": {},
   "source": [
    "You can also use longer aliases for the command-line options to make your code more Pythonic. The docstrings for each module list the possible aliases:"
   ]
  },
  {
   "cell_type": "code",
   "execution_count": null,
   "metadata": {},
   "outputs": [],
   "source": [
    "help(gmt.psxy)"
   ]
  },
  {
   "cell_type": "markdown",
   "metadata": {},
   "source": [
    "Lets make the same figure but using the available aliases."
   ]
  },
  {
   "cell_type": "code",
   "execution_count": null,
   "metadata": {},
   "outputs": [],
   "source": [
    "gmt.figure()\n",
    "# Arguments like R can also receive input as lists.\n",
    "# This makes it easier to generate such arguments \n",
    "# programatically\n",
    "gmt.psbasemap(region=[130, 150, 35, 50], projection='M6i', \n",
    "              frame=True, portrait=True)\n",
    "# You can mix using aliases and the command-line names\n",
    "gmt.psxy('@tut_quakes.ngdc', style='c0.4c', G='red', \n",
    "         pen='faint', i='4,3')\n",
    "gmt.psconvert(prefix='myotherfigure', fmt='G', crop=True)\n",
    "\n",
    "Image(filename='myotherfigure.png', embed=True, width=500)"
   ]
  },
  {
   "cell_type": "code",
   "execution_count": null,
   "metadata": {
    "collapsed": true
   },
   "outputs": [],
   "source": [
    "# Clean up the generated files\n",
    "import os\n",
    "os.remove('myfigure.png')\n",
    "os.remove('myotherfigure.png')"
   ]
  }
 ],
 "metadata": {
  "kernelspec": {
   "display_name": "Python 3",
   "language": "python",
   "name": "python3"
  },
  "language_info": {
   "codemirror_mode": {
    "name": "ipython",
    "version": 3
   },
   "file_extension": ".py",
   "mimetype": "text/x-python",
   "name": "python",
   "nbconvert_exporter": "python",
   "pygments_lexer": "ipython3",
   "version": "3.6.1"
  }
 },
 "nbformat": 4,
 "nbformat_minor": 2
}
